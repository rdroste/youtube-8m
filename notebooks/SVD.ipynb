{
 "cells": [
  {
   "cell_type": "code",
   "execution_count": 1,
   "metadata": {},
   "outputs": [
    {
     "name": "stdout",
     "output_type": "stream",
     "text": [
      "frame_level\n",
      "label_names.csv\n",
      "label_names.csv.zip\n",
      "sample_submission.csv\n",
      "sample_submission.csv.zip\n",
      "train_labels.csv\n",
      "validate_labels.csv\n",
      "video_level\n",
      "vocabulary.csv\n",
      "\n"
     ]
    }
   ],
   "source": [
    "# This Python 3 environment comes with many helpful analytics libraries installed\n",
    "# It is defined by the kaggle/python docker image: https://github.com/kaggle/docker-python\n",
    "# For example, here's several helpful packages to load in \n",
    "\n",
    "from __future__ import print_function\n",
    "import numpy as np # linear algebra\n",
    "import pandas as pd # data processing, CSV file I/O (e.g. pd.read_csv)\n",
    "\n",
    "# Input data files are available in the \"../input/\" directory.\n",
    "# For example, running this (by clicking run or pressing Shift+Enter) will list the files in the input directory\n",
    "\n",
    "from subprocess import check_output\n",
    "print(check_output([\"ls\", \"../../input\"]).decode(\"utf8\"))\n",
    "\n",
    "# Any results you write to the current directory are saved as output."
   ]
  },
  {
   "cell_type": "code",
   "execution_count": 2,
   "metadata": {
    "collapsed": true
   },
   "outputs": [],
   "source": [
    "import tensorflow as tf\n",
    "import numpy as np\n",
    "\n",
    "frame_lvl_record = \"../../input/frame_level/train-1.tfrecord\""
   ]
  },
  {
   "cell_type": "code",
   "execution_count": 3,
   "metadata": {
    "collapsed": true
   },
   "outputs": [],
   "source": [
    "# now, let's read the frame-level data\n",
    "# due to execution time, we're only going to read the first video\n",
    "\n",
    "feat_rgb = []\n",
    "feat_audio = []\n",
    "\n",
    "for example in tf.python_io.tf_record_iterator(frame_lvl_record):        \n",
    "    tf_seq_example = tf.train.SequenceExample.FromString(example)\n",
    "    n_frames = len(tf_seq_example.feature_lists.feature_list['audio'].feature)\n",
    "    sess = tf.InteractiveSession()\n",
    "    rgb_frame = []\n",
    "    audio_frame = []\n",
    "    # iterate through frames\n",
    "    for i in range(n_frames):\n",
    "        rgb_frame.append(tf.cast(tf.decode_raw(\n",
    "                tf_seq_example.feature_lists.feature_list['rgb'].feature[i].bytes_list.value[0],tf.uint8)\n",
    "                       ,tf.float32).eval())\n",
    "        audio_frame.append(tf.cast(tf.decode_raw(\n",
    "                tf_seq_example.feature_lists.feature_list['audio'].feature[i].bytes_list.value[0],tf.uint8)\n",
    "                       ,tf.float32).eval())\n",
    "        \n",
    "        \n",
    "    sess.close()\n",
    "    feat_rgb.append(rgb_frame)\n",
    "    feat_audio.append(audio_frame)\n",
    "    break"
   ]
  },
  {
   "cell_type": "code",
   "execution_count": 4,
   "metadata": {},
   "outputs": [
    {
     "name": "stdout",
     "output_type": "stream",
     "text": [
      "The first video has 180 frames\n",
      "and contains 1024 features.\n",
      "The features are of data type float32.\n"
     ]
    }
   ],
   "source": [
    "feat_rgb = np.asarray(feat_rgb).squeeze()\n",
    "feat_rgb_shape = np.shape(feat_rgb)\n",
    "\n",
    "print('The first video has %d frames' %feat_rgb_shape[0])\n",
    "print('and contains %d features.' %feat_rgb_shape[1])\n",
    "print('The features are of data type %s.' %np.dtype(feat_rgb[0,0]))\n"
   ]
  },
  {
   "cell_type": "code",
   "execution_count": 5,
   "metadata": {
    "collapsed": true
   },
   "outputs": [],
   "source": [
    "from scipy.linalg import svd\n",
    "\n",
    "# Perform SVD\n",
    "[U, Sv, Vh] = svd(feat_rgb.astype(np.float64), full_matrices=False,\n",
    "                          overwrite_a=False, check_finite=False)"
   ]
  },
  {
   "cell_type": "code",
   "execution_count": 6,
   "metadata": {},
   "outputs": [
    {
     "data": {
      "image/png": "[encoded data removed]",
      "text/plain": [
       "<matplotlib.figure.Figure at 0x7f76c4044050>"
      ]
     },
     "metadata": {},
     "output_type": "display_data"
    }
   ],
   "source": [
    "%matplotlib inline\n",
    "import matplotlib\n",
    "import matplotlib.pyplot as plt\n",
    "\n",
    "# Plot Singular Values\n",
    "x = np.arange(1,len(Sv)+1)\n",
    "plt.plot(x,Sv)\n",
    "plt.xlabel('Singular Value')\n",
    "plt.ylabel('Energy')\n",
    "plt.title('Singular Value Distribution')\n",
    "plt.grid(True)\n",
    "plt.show()"
   ]
  },
  {
   "cell_type": "code",
   "execution_count": 7,
   "metadata": {},
   "outputs": [
    {
     "data": {
      "image/png": "[encoded data removed]",
      "text/plain": [
       "<matplotlib.figure.Figure at 0x7f768dada550>"
      ]
     },
     "metadata": {},
     "output_type": "display_data"
    }
   ],
   "source": [
    "# Plot Cumulative Singular Values\n",
    "Sv_cum = np.cumsum(Sv)/np.sum(Sv)\n",
    "plt.plot(x,Sv_cum)\n",
    "plt.ylim(0,1)\n",
    "plt.xlabel('Singular Value')\n",
    "plt.ylabel('Cumulative Energy')\n",
    "plt.title('Singular Value Concentration')\n",
    "plt.grid(True)\n",
    "plt.show()"
   ]
  },
  {
   "cell_type": "code",
   "execution_count": 8,
   "metadata": {},
   "outputs": [
    {
     "name": "stdout",
     "output_type": "stream",
     "text": [
      "~50% of the cumulative SV is contained in the first 29 SVs, equivalent to ~16% of all SVs\n"
     ]
    }
   ],
   "source": [
    "from __future__ import division\n",
    "Sv_perc50 = np.size(np.where(Sv_cum < 0.5)[0])\n",
    "print('~50%% of the cumulative SV is contained in the first %d SVs, '\n",
    "      'equivalent to ~%d%% of all SVs' %(Sv_perc50, 100*Sv_perc50/len(Sv)))"
   ]
  },
  {
   "cell_type": "code",
   "execution_count": 9,
   "metadata": {},
   "outputs": [],
   "source": [
    "# Benchmark different SVD methods\n",
    "\n",
    "import time\n",
    "from sklearn.utils.extmath import randomized_svd\n",
    "# import sklearn.decomposition.TruncatedSVD\n",
    "\n",
    "# Number of components for truncated SVD\n",
    "nComps = 16\n",
    "\n",
    "ts = []\n",
    "t = time.time()\n",
    "[U, Sv, Vh] = svd(feat_rgb, full_matrices=False, check_finite=False)\n",
    "ts.append(time.time() - t)\n",
    "\n",
    "t = time.time()\n",
    "[U, Sv, Vh] = randomized_svd(feat_rgb, n_components=nComps)\n",
    "ts.append(time.time() - t)\n",
    "\n",
    "a = tf.constant(feat_rgb)\n",
    "tf.InteractiveSession()\n",
    "t = time.time()\n",
    "s, u, v = tf.svd(a)\n",
    "ts.append(time.time() - t)"
   ]
  },
  {
   "cell_type": "code",
   "execution_count": 10,
   "metadata": {},
   "outputs": [
    {
     "data": {
      "image/png": "[encoded data removed]",
      "text/plain": [
       "<matplotlib.figure.Figure at 0x7f768782ac90>"
      ]
     },
     "metadata": {},
     "output_type": "display_data"
    }
   ],
   "source": [
    "# Visualized ts\n",
    "\n",
    "ax = plt.subplot(111)\n",
    "rects = ax.bar(np.arange(3),np.asarray(ts)*1000, zorder=3)\n",
    "ax.set_xticks(np.arange(3))\n",
    "ax.set_xticklabels(('Standard','Randomized','TensorFlow'))\n",
    "ax.set_ylabel('run time [ms]')\n",
    "ax.set_title('Run time of different SVD implementations')\n",
    "i = 0\n",
    "for rect in rects:\n",
    "    height = rect.get_height()\n",
    "    ax.text(rect.get_x() + rect.get_width()/2., 1.05*height,\n",
    "            '%.2f' % (ts[i]*1000),\n",
    "            ha='center', va='bottom')\n",
    "    i = i+1\n",
    "ax.set_ylim([0,1000*1.2*np.asarray(ts).max()])\n",
    "ax.grid(zorder=0)\n",
    "plt.show()"
   ]
  },
  {
   "cell_type": "code",
   "execution_count": null,
   "metadata": {
    "collapsed": true
   },
   "outputs": [],
   "source": []
  }
 ],
 "metadata": {
  "kernelspec": {
   "display_name": "Python 2",
   "language": "python",
   "name": "python2"
  },
  "language_info": {
   "codemirror_mode": {
    "name": "ipython",
    "version": 2
   },
   "file_extension": ".py",
   "mimetype": "text/x-python",
   "name": "python",
   "nbconvert_exporter": "python",
   "pygments_lexer": "ipython2",
   "version": "2.7.12"
  }
 },
 "nbformat": 4,
 "nbformat_minor": 2
}
